{
 "cells": [
  {
   "cell_type": "markdown",
   "id": "ce80305b-3076-43f6-991b-3ba6bf91a1da",
   "metadata": {},
   "source": [
    "# set"
   ]
  },
  {
   "cell_type": "markdown",
   "id": "e75da989-63d2-4195-8ff0-a9ea0f72e661",
   "metadata": {},
   "source": [
    "<h5>A set is an unordered, mutable collection of unique items.\n",
    "Used to remove duplicates, check common elements, or do mathematical set operations (like union, intersection).</h5>"
   ]
  },
  {
   "cell_type": "code",
   "execution_count": 5,
   "id": "7912b6e6-a8da-4e71-9c80-ed723f5c1118",
   "metadata": {},
   "outputs": [
    {
     "name": "stdout",
     "output_type": "stream",
     "text": [
      "{1, 2, 3, 4}\n"
     ]
    }
   ],
   "source": [
    "s={1,2,3,4,4}\n",
    "print(s)"
   ]
  },
  {
   "cell_type": "code",
   "execution_count": 6,
   "id": "aace4d8e-db84-47d0-b7d2-3971145f8ef1",
   "metadata": {},
   "outputs": [
    {
     "name": "stdout",
     "output_type": "stream",
     "text": [
      "banana\n",
      "apple\n",
      "mango\n"
     ]
    }
   ],
   "source": [
    "my_set = {\"apple\", \"banana\", \"mango\"}\n",
    "\n",
    "for item in my_set:\n",
    "    print(item)\n"
   ]
  },
  {
   "cell_type": "code",
   "execution_count": 11,
   "id": "7c68d6b6-06f9-4979-acc8-44bf900c4f5b",
   "metadata": {},
   "outputs": [
    {
     "name": "stdout",
     "output_type": "stream",
     "text": [
      "{1, 3, 4}\n"
     ]
    }
   ],
   "source": [
    "s.add(4)\n",
    "print(s)"
   ]
  },
  {
   "cell_type": "code",
   "execution_count": 13,
   "id": "8d63b747-16c4-47a4-a137-cdd665740bc1",
   "metadata": {},
   "outputs": [
    {
     "name": "stdout",
     "output_type": "stream",
     "text": [
      "{2, 3, 4}\n"
     ]
    }
   ],
   "source": [
    "set={1,2,3,4}\n",
    "set.remove(1)\n",
    "print(set)"
   ]
  },
  {
   "cell_type": "code",
   "execution_count": 16,
   "id": "3e968dd9-51f7-44f7-b077-bc7e7fb43abc",
   "metadata": {},
   "outputs": [
    {
     "name": "stdout",
     "output_type": "stream",
     "text": [
      "{3, 4}\n"
     ]
    }
   ],
   "source": [
    "set.discard(5)\n",
    "print(set)\n"
   ]
  },
  {
   "cell_type": "code",
   "execution_count": 17,
   "id": "48f36883-b285-4692-b470-877896a1e293",
   "metadata": {},
   "outputs": [
    {
     "name": "stdout",
     "output_type": "stream",
     "text": [
      "set()\n"
     ]
    }
   ],
   "source": [
    "set.clear()\n",
    "print(set)"
   ]
  },
  {
   "cell_type": "code",
   "execution_count": 18,
   "id": "4c6af800-b2bd-4836-b00a-6e10961d84cf",
   "metadata": {},
   "outputs": [
    {
     "name": "stdout",
     "output_type": "stream",
     "text": [
      "{1, 2, 3, 4, 5}\n",
      "{3}\n",
      "{1, 2}\n",
      "{1, 2, 4, 5}\n"
     ]
    }
   ],
   "source": [
    "a = {1, 2, 3}\n",
    "b = {3, 4, 5}\n",
    "\n",
    "print(a.union(b))         # {1, 2, 3, 4, 5}\n",
    "print(a.intersection(b))  # {3}\n",
    "print(a.difference(b))    # {1, 2}\n",
    "print(a.symmetric_difference(b))  # {1, 2, 4, 5}\n"
   ]
  }
 ],
 "metadata": {
  "kernelspec": {
   "display_name": "Python 3 (ipykernel)",
   "language": "python",
   "name": "python3"
  },
  "language_info": {
   "codemirror_mode": {
    "name": "ipython",
    "version": 3
   },
   "file_extension": ".py",
   "mimetype": "text/x-python",
   "name": "python",
   "nbconvert_exporter": "python",
   "pygments_lexer": "ipython3",
   "version": "3.13.3"
  }
 },
 "nbformat": 4,
 "nbformat_minor": 5
}
