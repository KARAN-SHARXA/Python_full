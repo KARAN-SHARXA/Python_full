{
 "cells": [
  {
   "cell_type": "markdown",
   "id": "99c152fa-6d74-45c4-a80b-e72b4ae3c896",
   "metadata": {},
   "source": [
    "# filehandling"
   ]
  },
  {
   "cell_type": "code",
   "execution_count": 11,
   "id": "3a26bd7f-3e9d-45f4-a65d-9a86655ad2c6",
   "metadata": {},
   "outputs": [],
   "source": [
    "f=open(\"karan.txt\",'w')\n",
    "f.write(\"hello \")\n",
    "f.close()"
   ]
  },
  {
   "cell_type": "code",
   "execution_count": 12,
   "id": "f34a3bd1-2e04-4226-8038-8fbbfc8f6dc8",
   "metadata": {},
   "outputs": [],
   "source": [
    "f=open(\"karan.txt\",'a')\n",
    "f.write(\"are raju kha kaju\")\n",
    "f.close()"
   ]
  },
  {
   "cell_type": "code",
   "execution_count": 18,
   "id": "5edc069a-f933-4cc1-af20-2d5a0bb37e6a",
   "metadata": {},
   "outputs": [
    {
     "name": "stdout",
     "output_type": "stream",
     "text": [
      "hello are raju kha kaju\n"
     ]
    }
   ],
   "source": [
    "f=open(\"karan.txt\",'r')\n",
    "print(f.read())\n",
    "f.close()"
   ]
  }
 ],
 "metadata": {
  "kernelspec": {
   "display_name": "Python 3 (ipykernel)",
   "language": "python",
   "name": "python3"
  },
  "language_info": {
   "codemirror_mode": {
    "name": "ipython",
    "version": 3
   },
   "file_extension": ".py",
   "mimetype": "text/x-python",
   "name": "python",
   "nbconvert_exporter": "python",
   "pygments_lexer": "ipython3",
   "version": "3.13.3"
  }
 },
 "nbformat": 4,
 "nbformat_minor": 5
}
