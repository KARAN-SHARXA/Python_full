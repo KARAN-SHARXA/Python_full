{
 "cells": [
  {
   "cell_type": "markdown",
   "id": "428daff4-294b-42c0-975f-a91b6f06f4fc",
   "metadata": {},
   "source": [
    "# Tuple"
   ]
  },
  {
   "cell_type": "markdown",
   "id": "7e764c8a-a160-48b8-b48e-419d966fc9e7",
   "metadata": {},
   "source": [
    "<h5>A tuple is an ordered, immutable (unchangeable) collection of items. Tuples are used when you want to protect the data from being modified</h5>"
   ]
  },
  {
   "cell_type": "code",
   "execution_count": 1,
   "id": "c746f8fa-bc67-4967-bfcc-40153b1c6e65",
   "metadata": {},
   "outputs": [
    {
     "name": "stdout",
     "output_type": "stream",
     "text": [
      "(1, 2, 3)\n"
     ]
    }
   ],
   "source": [
    "t1=(1,2,3)\n",
    "print(t1)"
   ]
  },
  {
   "cell_type": "code",
   "execution_count": 2,
   "id": "8defd384-03c5-43b6-b64e-237f98cd29b0",
   "metadata": {},
   "outputs": [
    {
     "name": "stdout",
     "output_type": "stream",
     "text": [
      "red\n",
      "blue\n"
     ]
    }
   ],
   "source": [
    "colors = (\"red\", \"green\", \"blue\")\n",
    "print(colors[0])       # red\n",
    "print(colors[-1])      # blue\n"
   ]
  },
  {
   "cell_type": "code",
   "execution_count": 3,
   "id": "061446ca-8018-45e5-b45e-cfa514f1d40e",
   "metadata": {},
   "outputs": [
    {
     "name": "stdout",
     "output_type": "stream",
     "text": [
      "(20, 30, 40)\n"
     ]
    }
   ],
   "source": [
    "nums = (10, 20, 30, 40, 50)\n",
    "print(nums[1:4])       # (20, 30, 40)\n"
   ]
  },
  {
   "cell_type": "code",
   "execution_count": 4,
   "id": "d614feb9-6c70-4293-8965-99e3524e43cb",
   "metadata": {},
   "outputs": [
    {
     "name": "stdout",
     "output_type": "stream",
     "text": [
      "(1, 2, 3, 4, 5)\n",
      "(1, 2, 3, 1, 2, 3)\n"
     ]
    }
   ],
   "source": [
    "a = (1, 2, 3)\n",
    "b = (4, 5)\n",
    "\n",
    "print(a + b)       # (1, 2, 3, 4, 5)\n",
    "print(a * 2)       # (1, 2, 3, 1, 2, 3)\n"
   ]
  },
  {
   "cell_type": "code",
   "execution_count": 5,
   "id": "2a91b6d7-108a-42c9-9f9c-0d292584e817",
   "metadata": {},
   "outputs": [
    {
     "name": "stdout",
     "output_type": "stream",
     "text": [
      "2\n",
      "3\n"
     ]
    }
   ],
   "source": [
    "t = (10, 20, 10, 30)\n",
    "print(t.count(10))   # 2\n",
    "print(t.index(30))   # 3\n"
   ]
  }
 ],
 "metadata": {
  "kernelspec": {
   "display_name": "Python 3 (ipykernel)",
   "language": "python",
   "name": "python3"
  },
  "language_info": {
   "codemirror_mode": {
    "name": "ipython",
    "version": 3
   },
   "file_extension": ".py",
   "mimetype": "text/x-python",
   "name": "python",
   "nbconvert_exporter": "python",
   "pygments_lexer": "ipython3",
   "version": "3.13.3"
  }
 },
 "nbformat": 4,
 "nbformat_minor": 5
}
