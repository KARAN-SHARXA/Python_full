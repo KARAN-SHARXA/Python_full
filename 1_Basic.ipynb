{
 "cells": [
  {
   "cell_type": "markdown",
   "id": "76b01de5-810a-4ba5-9311-88818a33c9f9",
   "metadata": {},
   "source": [
    "<h5>Python is a high-level, interpreted programming language. It’s widely used in data analytics, machine learning, web development, and automation due to its simplicity and powerful libraries.</h5>"
   ]
  },
  {
   "cell_type": "markdown",
   "id": "c685677b-8cda-42c3-9ad3-80cb6e38760d",
   "metadata": {},
   "source": [
    "<h5> variable = it is a name that refer ta value stored in a memeoy , it is act like a conatiner that hold some value <h5/>"
   ]
  },
  {
   "cell_type": "code",
   "execution_count": 1,
   "id": "c44c5328-b715-4545-affa-50736fc7b3e1",
   "metadata": {},
   "outputs": [
    {
     "name": "stdout",
     "output_type": "stream",
     "text": [
      "name\n"
     ]
    }
   ],
   "source": [
    "x=10 \n",
    "name=\"karan sharma\"\n",
    "print(\"name\")  # here x is a variabel"
   ]
  },
  {
   "cell_type": "markdown",
   "id": "0d764b17-4b76-45b5-98e3-8af1c315a68c",
   "metadata": {},
   "source": [
    "<h5> data type define what kine of value a variable can hold </h5>"
   ]
  },
  {
   "cell_type": "code",
   "execution_count": 5,
   "id": "5bf5ba4d-343e-4264-b5f4-b88fbeba8fce",
   "metadata": {},
   "outputs": [
    {
     "name": "stdout",
     "output_type": "stream",
     "text": [
      "1\n",
      "karan\n",
      "1.34\n",
      "True\n"
     ]
    }
   ],
   "source": [
    "a=1\n",
    "print(a)\n",
    "b=\"karan\"\n",
    "print(b)\n",
    "c=1.34\n",
    "print(c)\n",
    "d=True\n",
    "print(d)\n"
   ]
  },
  {
   "cell_type": "markdown",
   "id": "6cdd4185-f78e-4854-9354-a106f05270e7",
   "metadata": {},
   "source": [
    "<h5>type casting Type casting is the process of converting one data type to another.</h5>"
   ]
  },
  {
   "cell_type": "code",
   "execution_count": 6,
   "id": "6c48534b-3ee4-4007-9dd1-8b529014e338",
   "metadata": {},
   "outputs": [
    {
     "name": "stdout",
     "output_type": "stream",
     "text": [
      "15\n"
     ]
    }
   ],
   "source": [
    "x = \"10\"\n",
    "y = int(x)  # converts string to integer\n",
    "print(y + 5)  # Output: 15\n"
   ]
  },
  {
   "cell_type": "code",
   "execution_count": 7,
   "id": "978a3b90-ac43-4679-8db9-d52023e19b99",
   "metadata": {},
   "outputs": [
    {
     "name": "stdin",
     "output_type": "stream",
     "text": [
      "Enter your name:  karan\n"
     ]
    },
    {
     "name": "stdout",
     "output_type": "stream",
     "text": [
      "Hello, karan\n"
     ]
    }
   ],
   "source": [
    "name = input(\"Enter your name: \")\n",
    "print(\"Hello, \" + name)\n"
   ]
  },
  {
   "cell_type": "code",
   "execution_count": 8,
   "id": "d598cb49-0bd7-451e-8ade-1a1ad351430e",
   "metadata": {},
   "outputs": [
    {
     "name": "stdin",
     "output_type": "stream",
     "text": [
      "Enter your age:  5\n"
     ]
    },
    {
     "name": "stdout",
     "output_type": "stream",
     "text": [
      "You will be 6 next year.\n"
     ]
    }
   ],
   "source": [
    "age = int(input(\"Enter your age: \"))\n",
    "print(\"You will be\", age + 1, \"next year.\")\n"
   ]
  },
  {
   "cell_type": "code",
   "execution_count": 9,
   "id": "5c3b07c8-6c29-4aed-bf14-e37246547599",
   "metadata": {},
   "outputs": [
    {
     "name": "stdout",
     "output_type": "stream",
     "text": [
      "<class 'int'>\n"
     ]
    }
   ],
   "source": [
    "x = 5\n",
    "print(type(x))  # Output: <class 'int'>\n"
   ]
  },
  {
   "cell_type": "code",
   "execution_count": 10,
   "id": "35418c50-a266-4d4d-be6d-4ef491c091df",
   "metadata": {},
   "outputs": [
    {
     "name": "stdout",
     "output_type": "stream",
     "text": [
      "Data Analytics\n"
     ]
    }
   ],
   "source": [
    "first = \"Data\"\n",
    "second = \"Analytics\"\n",
    "full = first + \" \" + second\n",
    "print(full)\n"
   ]
  },
  {
   "cell_type": "code",
   "execution_count": 11,
   "id": "360bcfe2-9dc7-494c-8c10-6520aa9caf3b",
   "metadata": {},
   "outputs": [
    {
     "name": "stdout",
     "output_type": "stream",
     "text": [
      "my name is karan and i am 20 year old \n"
     ]
    }
   ],
   "source": [
    "name = \"karan\"\n",
    "age=20\n",
    "print(f\"my name is {name} and i am {age} year old \")"
   ]
  },
  {
   "cell_type": "markdown",
   "id": "6a1821d9-b4be-4e6b-9cc8-bc770330d71e",
   "metadata": {},
   "source": [
    "<h5>Practice question</h5>"
   ]
  },
  {
   "cell_type": "code",
   "execution_count": 12,
   "id": "be99c2e6-d859-4d6c-b80c-bec29602a24d",
   "metadata": {},
   "outputs": [
    {
     "name": "stdin",
     "output_type": "stream",
     "text": [
      "what is your name karan\n",
      "what is your age 20\n"
     ]
    },
    {
     "name": "stdout",
     "output_type": "stream",
     "text": [
      "my name is karan and my age is 20 \n"
     ]
    }
   ],
   "source": [
    "a=input(\"what is your name\")\n",
    "b=int(input(\"what is your age\"))\n",
    "print(f\"my name is {a} and my age is {b} \")"
   ]
  },
  {
   "cell_type": "code",
   "execution_count": 16,
   "id": "37f50801-36d0-4356-baac-6e8694a6b329",
   "metadata": {},
   "outputs": [
    {
     "name": "stdout",
     "output_type": "stream",
     "text": [
      "6.28\n"
     ]
    }
   ],
   "source": [
    "a=\"3.14\"\n",
    "b=float(a)*2\n",
    "print(b)"
   ]
  },
  {
   "cell_type": "code",
   "execution_count": 17,
   "id": "28da575f-32dc-450d-aa9b-1f539a4e89cc",
   "metadata": {},
   "outputs": [
    {
     "name": "stdin",
     "output_type": "stream",
     "text": [
      "enetr a number 2\n"
     ]
    },
    {
     "name": "stdout",
     "output_type": "stream",
     "text": [
      "4\n"
     ]
    }
   ],
   "source": [
    "a=int(input(\"enetr a number\"))\n",
    "print(a**2)"
   ]
  },
  {
   "cell_type": "code",
   "execution_count": 19,
   "id": "4a619629-017f-457c-99cb-d4245e4bd00f",
   "metadata": {},
   "outputs": [
    {
     "name": "stdout",
     "output_type": "stream",
     "text": [
      "15.5\n",
      "<class 'float'>\n"
     ]
    }
   ],
   "source": [
    "b=10+5.5\n",
    "print(b)\n",
    "print(type(b))"
   ]
  }
 ],
 "metadata": {
  "kernelspec": {
   "display_name": "Python 3 (ipykernel)",
   "language": "python",
   "name": "python3"
  },
  "language_info": {
   "codemirror_mode": {
    "name": "ipython",
    "version": 3
   },
   "file_extension": ".py",
   "mimetype": "text/x-python",
   "name": "python",
   "nbconvert_exporter": "python",
   "pygments_lexer": "ipython3",
   "version": "3.13.3"
  }
 },
 "nbformat": 4,
 "nbformat_minor": 5
}
