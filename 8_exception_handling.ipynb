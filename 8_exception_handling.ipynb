{
 "cells": [
  {
   "cell_type": "markdown",
   "id": "a71b9ae7-5e97-4f19-b1d4-5f307a86868b",
   "metadata": {},
   "source": [
    "# Exception handling"
   ]
  },
  {
   "cell_type": "markdown",
   "id": "e6b4a22d-c2a1-4619-94d7-00d9737e5c53",
   "metadata": {},
   "source": [
    "<h5>Exception are unexpected events or errors that occurs dusring the execution of a program , which disrupts the normal flow of the program</h5>"
   ]
  },
  {
   "cell_type": "code",
   "execution_count": 2,
   "id": "4ade4fd0-6c5f-4fbf-a01d-42d15ee7fb23",
   "metadata": {},
   "outputs": [
    {
     "name": "stdout",
     "output_type": "stream",
     "text": [
      "hello karan\n"
     ]
    }
   ],
   "source": [
    "print(\"hello karan\")"
   ]
  },
  {
   "cell_type": "code",
   "execution_count": 4,
   "id": "fc32ae7d-4177-43d9-8639-b049174a1ddd",
   "metadata": {},
   "outputs": [
    {
     "name": "stdin",
     "output_type": "stream",
     "text": [
      "enter your number 5\n"
     ]
    },
    {
     "name": "stdout",
     "output_type": "stream",
     "text": [
      "2.0\n",
      "ok i have done with error\n"
     ]
    }
   ],
   "source": [
    "a=int(input(\"enter your number\"))\n",
    "print(10/a)\n",
    "print(\"ok i have done with error\")"
   ]
  },
  {
   "cell_type": "code",
   "execution_count": 7,
   "id": "1f6f46c9-d6cb-4a5d-a6f7-20eaa7a6af7a",
   "metadata": {},
   "outputs": [
    {
     "name": "stdin",
     "output_type": "stream",
     "text": [
      "enter your number 0\n"
     ]
    },
    {
     "name": "stdout",
     "output_type": "stream",
     "text": [
      " sorry you cannot divide by 0\n",
      "ok i have done with error\n"
     ]
    }
   ],
   "source": [
    "a=int(input(\"enter your number\"))\n",
    "try:\n",
    "    print(10/a)\n",
    "except Exception as err:\n",
    "    print(\" sorry you cannot divide by 0\")\n",
    "print(\"ok i have done with error\")"
   ]
  },
  {
   "cell_type": "code",
   "execution_count": 8,
   "id": "b11ec3cf-08b3-442b-be01-239b72f845b9",
   "metadata": {},
   "outputs": [
    {
     "name": "stdin",
     "output_type": "stream",
     "text": [
      "enter your number 5\n"
     ]
    },
    {
     "name": "stdout",
     "output_type": "stream",
     "text": [
      " sorry you cannot divide by 0\n",
      "ok i have done with error\n"
     ]
    }
   ],
   "source": [
    "a=input(\"enter your number\")\n",
    "try:\n",
    "    print(10/a)\n",
    "except Exception as err:\n",
    "    print(\" sorry you cannot divide by 0\")\n",
    "print(\"ok i have done with error\")"
   ]
  },
  {
   "cell_type": "code",
   "execution_count": 9,
   "id": "d591d0ef-b7e1-4819-ab73-781ec6ccd6a3",
   "metadata": {},
   "outputs": [
    {
     "name": "stdin",
     "output_type": "stream",
     "text": [
      "enter your number 5\n"
     ]
    },
    {
     "name": "stdout",
     "output_type": "stream",
     "text": [
      "2.0\n",
      "good there is no exceptio\n",
      "ok i have done with error\n"
     ]
    }
   ],
   "source": [
    "a=int(input(\"enter your number\"))\n",
    "try:\n",
    "    print(10/a)\n",
    "except Exception as err:\n",
    "    print(\" sorry you cannot divide by 0\")\n",
    "\n",
    "else:\n",
    "    print(\"good there is no exceptio\")\n",
    "    \n",
    "print(\"ok i have done with error\")"
   ]
  },
  {
   "cell_type": "code",
   "execution_count": 10,
   "id": "f4333e54-86d5-4c92-a4e3-078b8d0d0d5a",
   "metadata": {},
   "outputs": [
    {
     "name": "stdin",
     "output_type": "stream",
     "text": [
      "enter your number 0\n"
     ]
    },
    {
     "name": "stdout",
     "output_type": "stream",
     "text": [
      " sorry you cannot divide by 0\n",
      "i will run no matter what\n",
      "ok i have done with error\n"
     ]
    }
   ],
   "source": [
    "a=int(input(\"enter your number\"))\n",
    "try:\n",
    "    print(10/a)\n",
    "except Exception as err:\n",
    "    print(\" sorry you cannot divide by 0\")\n",
    "\n",
    "else:\n",
    "    print(\"good there is no exceptio\")\n",
    "finally:\n",
    "    print(\"i will run no matter what\")\n",
    "    \n",
    "print(\"ok i have done with error\")"
   ]
  },
  {
   "cell_type": "code",
   "execution_count": null,
   "id": "27b98a30-2f76-404c-8bf0-fcf7e38a2172",
   "metadata": {},
   "outputs": [],
   "source": []
  }
 ],
 "metadata": {
  "kernelspec": {
   "display_name": "Python 3 (ipykernel)",
   "language": "python",
   "name": "python3"
  },
  "language_info": {
   "codemirror_mode": {
    "name": "ipython",
    "version": 3
   },
   "file_extension": ".py",
   "mimetype": "text/x-python",
   "name": "python",
   "nbconvert_exporter": "python",
   "pygments_lexer": "ipython3",
   "version": "3.13.3"
  }
 },
 "nbformat": 4,
 "nbformat_minor": 5
}
