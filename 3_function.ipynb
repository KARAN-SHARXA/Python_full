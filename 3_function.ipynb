{
 "cells": [
  {
   "cell_type": "markdown",
   "id": "65bb176f-edd7-47da-bb45-7eb4c59d7cdc",
   "metadata": {},
   "source": [
    "# Function"
   ]
  },
  {
   "cell_type": "markdown",
   "id": "093e586f-e4e4-476f-8648-9032c95a4e85",
   "metadata": {},
   "source": [
    "<h5>A function is a reusable block of code that performs a specific task. It helps keep your code organized, readable, and reusable</h5>"
   ]
  },
  {
   "cell_type": "markdown",
   "id": "33db4cd8-07fb-43f2-8800-665bf04b1dd9",
   "metadata": {},
   "source": [
    "<h5> Types of Functions\n",
    "Built-in functions – e.g. print(), len(), sum()\n",
    "\n",
    "User-defined functions – functions you create</h5>"
   ]
  },
  {
   "cell_type": "code",
   "execution_count": 1,
   "id": "be98539b-7b59-4102-a782-9f23ef0e41f8",
   "metadata": {},
   "outputs": [
    {
     "name": "stdout",
     "output_type": "stream",
     "text": [
      "hello, karan\n"
     ]
    }
   ],
   "source": [
    "def greet():\n",
    "    print(\"hello, karan\")\n",
    "greet()"
   ]
  },
  {
   "cell_type": "code",
   "execution_count": 2,
   "id": "0f5dba8b-a18c-4a03-9258-e49e367c9dc3",
   "metadata": {},
   "outputs": [
    {
     "name": "stdout",
     "output_type": "stream",
     "text": [
      "hello ,karan \n"
     ]
    }
   ],
   "source": [
    "def greet(name):\n",
    "    print(f\"hello ,{name} \")\n",
    "\n",
    "greet(\"karan\")"
   ]
  },
  {
   "cell_type": "code",
   "execution_count": 4,
   "id": "debd8a87-7f10-444a-a725-4bf46fff6147",
   "metadata": {},
   "outputs": [
    {
     "name": "stdout",
     "output_type": "stream",
     "text": [
      "15\n"
     ]
    }
   ],
   "source": [
    "def add(x,y):\n",
    "    return x+y\n",
    "result=add(5,10)\n",
    "print(result)"
   ]
  },
  {
   "cell_type": "code",
   "execution_count": 5,
   "id": "dbcc8e69-c9a2-40e7-a4de-e495b5a446ff",
   "metadata": {},
   "outputs": [
    {
     "name": "stdout",
     "output_type": "stream",
     "text": [
      "Name: Karan, Age: 21\n"
     ]
    }
   ],
   "source": [
    "def student(name, age):\n",
    "    print(f\"Name: {name}, Age: {age}\")\n",
    "\n",
    "student(age=21, name=\"Karan\")\n"
   ]
  },
  {
   "cell_type": "markdown",
   "id": "83678ed5-46f9-4054-91c5-cad465ca404c",
   "metadata": {},
   "source": [
    "<h5>A module is a Python file that contains functions, classes, or variables — you can reuse them in other programs</h5>"
   ]
  },
  {
   "cell_type": "code",
   "execution_count": 6,
   "id": "2731b93a-f21e-41e5-85d9-549dad3090a1",
   "metadata": {},
   "outputs": [],
   "source": [
    "def say_hello():\n",
    "    print(\"Hello from mytools!\")\n"
   ]
  },
  {
   "cell_type": "code",
   "execution_count": 8,
   "id": "52286cb2-4015-4e2b-bd52-b49b1bd7c31f",
   "metadata": {},
   "outputs": [
    {
     "name": "stdout",
     "output_type": "stream",
     "text": [
      "4\n"
     ]
    }
   ],
   "source": [
    "def square(number):\n",
    "    print(number ** 2)\n",
    "\n",
    "square(2)\n",
    "    "
   ]
  },
  {
   "cell_type": "code",
   "execution_count": 9,
   "id": "b6e6c6cc-bab7-43af-bf0c-50283010b767",
   "metadata": {},
   "outputs": [
    {
     "name": "stdout",
     "output_type": "stream",
     "text": [
      "my name is karan and my age is 20 \n"
     ]
    }
   ],
   "source": [
    "def greet(name,age):\n",
    "    print(f\"my name is {name} and my age is {age} \")\n",
    "\n",
    "greet(name = \"karan\",age = 20)"
   ]
  },
  {
   "cell_type": "code",
   "execution_count": 11,
   "id": "0a410582-bcc3-4e26-93d1-a65f46022103",
   "metadata": {},
   "outputs": [
    {
     "name": "stdout",
     "output_type": "stream",
     "text": [
      "2\n"
     ]
    }
   ],
   "source": [
    "def average(a,b,c):\n",
    "    k=(a+b+c)/3\n",
    "    print(int(k))\n",
    "\n",
    "\n",
    "average(a=2,b=3,c=3)"
   ]
  }
 ],
 "metadata": {
  "kernelspec": {
   "display_name": "Python 3 (ipykernel)",
   "language": "python",
   "name": "python3"
  },
  "language_info": {
   "codemirror_mode": {
    "name": "ipython",
    "version": 3
   },
   "file_extension": ".py",
   "mimetype": "text/x-python",
   "name": "python",
   "nbconvert_exporter": "python",
   "pygments_lexer": "ipython3",
   "version": "3.13.3"
  }
 },
 "nbformat": 4,
 "nbformat_minor": 5
}
