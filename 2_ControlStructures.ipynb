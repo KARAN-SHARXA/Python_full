{
 "cells": [
  {
   "cell_type": "markdown",
   "id": "f3b7218d-7489-4084-9487-443a962549e3",
   "metadata": {},
   "source": [
    "# Control Structures"
   ]
  },
  {
   "cell_type": "markdown",
   "id": "7d93ba0b-9e9d-4925-ab6b-e993f69c9737",
   "metadata": {},
   "source": [
    "<h5>Condition Statement</h5>"
   ]
  },
  {
   "cell_type": "markdown",
   "id": "81819275-90c0-4732-98db-cb74d8858fbc",
   "metadata": {},
   "source": [
    "<h5>Conditional statements allow your program to make decisions and execute different code depending on whether a condition is True or False.</h5>"
   ]
  },
  {
   "cell_type": "code",
   "execution_count": 1,
   "id": "2bf09f84-bc7e-483d-a091-7d791582221c",
   "metadata": {},
   "outputs": [
    {
     "name": "stdout",
     "output_type": "stream",
     "text": [
      "You are just 18!\n"
     ]
    }
   ],
   "source": [
    "age = 18\n",
    "\n",
    "if age < 18:\n",
    "    print(\"You are underage.\")\n",
    "elif age == 18:\n",
    "    print(\"You are just 18!\")\n",
    "else:\n",
    "    print(\"You are an adult.\")\n"
   ]
  },
  {
   "cell_type": "code",
   "execution_count": 2,
   "id": "5444fa89-8cd0-49da-80f0-bbdc3195f969",
   "metadata": {},
   "outputs": [
    {
     "name": "stdout",
     "output_type": "stream",
     "text": [
      "0\n",
      "1\n",
      "2\n",
      "3\n",
      "4\n"
     ]
    }
   ],
   "source": [
    "for i in range(5):\n",
    "    print(i)\n"
   ]
  },
  {
   "cell_type": "code",
   "execution_count": 3,
   "id": "543136b9-1569-4454-98cc-ab8ceb3803af",
   "metadata": {},
   "outputs": [
    {
     "name": "stdout",
     "output_type": "stream",
     "text": [
      "1\n",
      "2\n",
      "3\n",
      "4\n",
      "5\n"
     ]
    }
   ],
   "source": [
    "x=1\n",
    "while x<=5:\n",
    "    print(x)\n",
    "    x=x+1"
   ]
  },
  {
   "cell_type": "code",
   "execution_count": 4,
   "id": "772940b6-cffa-40ab-92a5-63bb072688e4",
   "metadata": {},
   "outputs": [
    {
     "name": "stdout",
     "output_type": "stream",
     "text": [
      "0\n",
      "1\n",
      "2\n",
      "3\n",
      "4\n"
     ]
    }
   ],
   "source": [
    "for i in range(10):\n",
    "    if i == 5:\n",
    "        break\n",
    "    print(i)  # prints 0 to 4\n"
   ]
  },
  {
   "cell_type": "markdown",
   "id": "cf56af6e-1a24-49c8-88d2-ccb069bff13a",
   "metadata": {},
   "source": [
    "<h5>Practice question</h5>"
   ]
  },
  {
   "cell_type": "code",
   "execution_count": 8,
   "id": "3666e681-b135-4849-b121-d3488dd2ff01",
   "metadata": {},
   "outputs": [
    {
     "name": "stdout",
     "output_type": "stream",
     "text": [
      "2\n",
      "4\n",
      "6\n",
      "8\n",
      "10\n",
      "12\n",
      "14\n",
      "16\n",
      "18\n",
      "20\n",
      "22\n",
      "24\n",
      "26\n",
      "28\n",
      "30\n",
      "32\n",
      "34\n",
      "36\n",
      "38\n",
      "40\n",
      "42\n",
      "44\n",
      "46\n",
      "48\n",
      "50\n"
     ]
    }
   ],
   "source": [
    "for i in range(1,51):\n",
    "    if i%2!=0:\n",
    "        continue \n",
    "    print(i)\n",
    "        \n",
    "    "
   ]
  },
  {
   "cell_type": "code",
   "execution_count": 11,
   "id": "e74d9a8e-5017-4db2-ab5d-bcd235e7e35d",
   "metadata": {},
   "outputs": [
    {
     "name": "stdout",
     "output_type": "stream",
     "text": [
      "10\n",
      "9\n",
      "8\n",
      "7\n",
      "6\n",
      "5\n",
      "4\n",
      "3\n",
      "2\n"
     ]
    }
   ],
   "source": [
    "for i in range (10,1,-1):\n",
    "    print(i)\n",
    "    \n"
   ]
  },
  {
   "cell_type": "code",
   "execution_count": 12,
   "id": "3e6486e9-0df5-434e-b249-fed0d5600191",
   "metadata": {},
   "outputs": [
    {
     "name": "stdout",
     "output_type": "stream",
     "text": [
      "10\n",
      "9\n",
      "8\n",
      "7\n",
      "6\n",
      "5\n",
      "4\n",
      "3\n",
      "2\n",
      "1\n"
     ]
    }
   ],
   "source": [
    "i=10\n",
    "while i>=1:\n",
    "    print(i)\n",
    "    i=i-1\n"
   ]
  },
  {
   "cell_type": "code",
   "execution_count": 13,
   "id": "3730d754-5d26-42f8-ba73-fdc0991b0bc3",
   "metadata": {},
   "outputs": [
    {
     "name": "stdout",
     "output_type": "stream",
     "text": [
      "1\n",
      "2\n",
      "3\n",
      "4\n",
      "5\n",
      "6\n"
     ]
    }
   ],
   "source": [
    "for i in range(1,10):\n",
    "    if i==7:\n",
    "        break\n",
    "    print(i)\n",
    "\n"
   ]
  },
  {
   "cell_type": "code",
   "execution_count": 14,
   "id": "6d90b1aa-78f1-46a0-82b4-8e14f38b0ab7",
   "metadata": {},
   "outputs": [
    {
     "name": "stdout",
     "output_type": "stream",
     "text": [
      "Two\n"
     ]
    }
   ],
   "source": [
    "value = 2\n",
    "\n",
    "match value:\n",
    "    case 1:\n",
    "        print(\"One\")\n",
    "    case 2:\n",
    "        print(\"Two\")\n",
    "    case _:\n",
    "        print(\"Other\")\n"
   ]
  }
 ],
 "metadata": {
  "kernelspec": {
   "display_name": "Python 3 (ipykernel)",
   "language": "python",
   "name": "python3"
  },
  "language_info": {
   "codemirror_mode": {
    "name": "ipython",
    "version": 3
   },
   "file_extension": ".py",
   "mimetype": "text/x-python",
   "name": "python",
   "nbconvert_exporter": "python",
   "pygments_lexer": "ipython3",
   "version": "3.13.3"
  }
 },
 "nbformat": 4,
 "nbformat_minor": 5
}
