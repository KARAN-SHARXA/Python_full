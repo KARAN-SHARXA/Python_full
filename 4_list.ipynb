{
 "cells": [
  {
   "cell_type": "markdown",
   "id": "78edd4ec-a62f-47ad-a21b-de85c6a308b3",
   "metadata": {},
   "source": [
    "# list"
   ]
  },
  {
   "cell_type": "markdown",
   "id": "4694d168-2edb-41d8-a031-06339d279601",
   "metadata": {},
   "source": [
    "<h5>A list is an ordered, mutable (changeable) collection that can store multiple data types (integers, strings, even other lists)</h5>"
   ]
  },
  {
   "cell_type": "markdown",
   "id": "11a7c9ee-6123-4c4c-bed4-5c4914b222c2",
   "metadata": {},
   "source": [
    "<h5>list</h5>"
   ]
  },
  {
   "cell_type": "code",
   "execution_count": 1,
   "id": "fd7afefe-98d3-496a-8ecd-98403de7e6c7",
   "metadata": {},
   "outputs": [
    {
     "name": "stdout",
     "output_type": "stream",
     "text": [
      "[1, 2, 3, 4, 5]\n"
     ]
    }
   ],
   "source": [
    "a=[1,2,3,4,5]\n",
    "print(a)"
   ]
  },
  {
   "cell_type": "code",
   "execution_count": 2,
   "id": "a1b11e16-1c92-4bf4-b832-820bac9ab58f",
   "metadata": {},
   "outputs": [
    {
     "name": "stdout",
     "output_type": "stream",
     "text": [
      "<class 'list'>\n"
     ]
    }
   ],
   "source": [
    "print(type(a))"
   ]
  },
  {
   "cell_type": "code",
   "execution_count": 5,
   "id": "72288f23-fb92-4460-8d97-cc9ceb5d25de",
   "metadata": {},
   "outputs": [
    {
     "name": "stdout",
     "output_type": "stream",
     "text": [
      "None\n"
     ]
    }
   ],
   "source": [
    "b=a.append(a)\n",
    "print(b)"
   ]
  },
  {
   "cell_type": "code",
   "execution_count": 1,
   "id": "de89f7a1-33e7-4b78-a480-14609333688a",
   "metadata": {},
   "outputs": [
    {
     "name": "stdout",
     "output_type": "stream",
     "text": [
      "[1, 'karan', 3.5, True]\n"
     ]
    }
   ],
   "source": [
    "c=[1,\"karan\",3.5,True]\n",
    "print(c)"
   ]
  },
  {
   "cell_type": "code",
   "execution_count": 2,
   "id": "965fa390-e884-4800-95cb-581914a693d8",
   "metadata": {},
   "outputs": [
    {
     "name": "stdout",
     "output_type": "stream",
     "text": [
      "1\n"
     ]
    }
   ],
   "source": [
    "print(c[0])"
   ]
  },
  {
   "cell_type": "code",
   "execution_count": 3,
   "id": "2f7fe5cf-835e-4fbe-840a-517d06a6490b",
   "metadata": {},
   "outputs": [
    {
     "name": "stdout",
     "output_type": "stream",
     "text": [
      "karan\n"
     ]
    }
   ],
   "source": [
    "print(c[1])"
   ]
  },
  {
   "cell_type": "code",
   "execution_count": 4,
   "id": "b623273f-d498-4bd2-9362-307a5a59ce7c",
   "metadata": {},
   "outputs": [
    {
     "name": "stdout",
     "output_type": "stream",
     "text": [
      "True\n"
     ]
    }
   ],
   "source": [
    "print(c[-1])"
   ]
  },
  {
   "cell_type": "code",
   "execution_count": 6,
   "id": "c20d4a32-b801-481c-842c-2cd6d7eab60a",
   "metadata": {},
   "outputs": [
    {
     "name": "stdout",
     "output_type": "stream",
     "text": [
      "[20, 30, 40]\n",
      "[10, 30, 50]\n"
     ]
    }
   ],
   "source": [
    "nums=[10,20,30,40,50]\n",
    "print(nums[1:4])\n",
    "print(nums[::2])"
   ]
  },
  {
   "cell_type": "code",
   "execution_count": 7,
   "id": "d3e85ff3-7415-4a4e-aed6-0af8e55927f4",
   "metadata": {},
   "outputs": [
    {
     "name": "stdout",
     "output_type": "stream",
     "text": [
      "['karam', 20, 30, 40, 50]\n"
     ]
    }
   ],
   "source": [
    "nums[0]=\"karam\"\n",
    "print(nums)"
   ]
  },
  {
   "cell_type": "code",
   "execution_count": 14,
   "id": "6d83b762-42f3-4ef5-b989-22f49f0fe717",
   "metadata": {},
   "outputs": [
    {
     "name": "stdout",
     "output_type": "stream",
     "text": [
      "[5, 4, 3, 2, 1, 6]\n"
     ]
    }
   ],
   "source": [
    "num=[5,4,3,2,1]\n",
    "num.append(6)\n",
    "print(num)"
   ]
  },
  {
   "cell_type": "code",
   "execution_count": 15,
   "id": "7fdc60ab-220b-497e-8be6-f5ce294cc65a",
   "metadata": {},
   "outputs": [
    {
     "name": "stdout",
     "output_type": "stream",
     "text": [
      "[1, 5, 4, 3, 2, 1, 6]\n"
     ]
    }
   ],
   "source": [
    "num.insert(0,1)\n",
    "print(num)"
   ]
  },
  {
   "cell_type": "code",
   "execution_count": 16,
   "id": "c785e1ce-5a65-4500-b254-52518165679b",
   "metadata": {},
   "outputs": [
    {
     "name": "stdout",
     "output_type": "stream",
     "text": [
      "[1, 5, 4, 3, 2, 1]\n"
     ]
    }
   ],
   "source": [
    "num.remove(6)\n",
    "print(num)"
   ]
  },
  {
   "cell_type": "code",
   "execution_count": 17,
   "id": "0cc50f78-b2c9-4142-91a6-284949627605",
   "metadata": {},
   "outputs": [
    {
     "name": "stdout",
     "output_type": "stream",
     "text": [
      "[1, 5, 4, 3, 2]\n"
     ]
    }
   ],
   "source": [
    "num.pop()\n",
    "print(num)"
   ]
  },
  {
   "cell_type": "code",
   "execution_count": 18,
   "id": "4e3db89d-3aeb-4889-8425-83751ce8d8a9",
   "metadata": {},
   "outputs": [],
   "source": [
    "num.sort()"
   ]
  },
  {
   "cell_type": "code",
   "execution_count": 19,
   "id": "c7832115-b1f6-494a-8b3f-1baa6b266f2d",
   "metadata": {},
   "outputs": [
    {
     "data": {
      "text/plain": [
       "[1, 2, 3, 4, 5]"
      ]
     },
     "execution_count": 19,
     "metadata": {},
     "output_type": "execute_result"
    }
   ],
   "source": [
    "num"
   ]
  },
  {
   "cell_type": "code",
   "execution_count": 20,
   "id": "7a07658d-63ab-4ddd-a0e4-0861b34f934e",
   "metadata": {},
   "outputs": [
    {
     "data": {
      "text/plain": [
       "[5, 4, 3, 2, 1]"
      ]
     },
     "execution_count": 20,
     "metadata": {},
     "output_type": "execute_result"
    }
   ],
   "source": [
    "num.reverse()\n",
    "num"
   ]
  },
  {
   "cell_type": "code",
   "execution_count": 21,
   "id": "c3569a34-07fd-450d-8e2f-fecce6ad1fb5",
   "metadata": {},
   "outputs": [],
   "source": [
    "num.clear()"
   ]
  },
  {
   "cell_type": "code",
   "execution_count": 22,
   "id": "8b8dba24-e4f8-48da-b673-029eb1978789",
   "metadata": {},
   "outputs": [
    {
     "name": "stdout",
     "output_type": "stream",
     "text": [
      "apple\n",
      "banana\n",
      "mango\n"
     ]
    }
   ],
   "source": [
    "fruits = [\"apple\", \"banana\", \"mango\"]\n",
    "for fruit in fruits:\n",
    "    print(fruit)\n"
   ]
  },
  {
   "cell_type": "code",
   "execution_count": 23,
   "id": "c1da347a-0dba-4ac6-b4b1-3bbe4c1a7c03",
   "metadata": {},
   "outputs": [
    {
     "name": "stdout",
     "output_type": "stream",
     "text": [
      "yes apple is in the list\n"
     ]
    }
   ],
   "source": [
    "if \"apple\" in fruits:\n",
    "    print(\"yes apple is in the list\")"
   ]
  },
  {
   "cell_type": "code",
   "execution_count": 24,
   "id": "a7e05abe-f130-425b-a1d3-aace936b29bb",
   "metadata": {},
   "outputs": [
    {
     "name": "stdout",
     "output_type": "stream",
     "text": [
      "[1, 4, 9, 16, 25]\n"
     ]
    }
   ],
   "source": [
    "squares=[x**2 for x in range(1,6)]\n",
    "print(squares)"
   ]
  },
  {
   "cell_type": "code",
   "execution_count": 26,
   "id": "1de982cd-07dd-4ea5-925b-231937c1571a",
   "metadata": {},
   "outputs": [
    {
     "name": "stdout",
     "output_type": "stream",
     "text": [
      "10\n"
     ]
    }
   ],
   "source": [
    "a=[1,2,3,4]\n",
    "print(sum(a))"
   ]
  },
  {
   "cell_type": "code",
   "execution_count": 28,
   "id": "1a34044b-c16f-453d-a6a8-2b135b12587a",
   "metadata": {},
   "outputs": [
    {
     "name": "stdout",
     "output_type": "stream",
     "text": [
      "1\n",
      "3\n",
      "6\n",
      "10\n",
      "15\n"
     ]
    }
   ],
   "source": []
  },
  {
   "cell_type": "code",
   "execution_count": 29,
   "id": "6cc15267-f7f8-40a4-8f64-f8bd54979dc0",
   "metadata": {},
   "outputs": [
    {
     "name": "stdout",
     "output_type": "stream",
     "text": [
      "10 appears 3 times\n"
     ]
    }
   ],
   "source": [
    "nums = [10, 20, 10, 30, 10]\n",
    "count = nums.count(10)\n",
    "print(\"10 appears\", count, \"times\")\n"
   ]
  },
  {
   "cell_type": "code",
   "execution_count": 30,
   "id": "6679416f-f43a-4643-ad46-dc503aad3ef1",
   "metadata": {},
   "outputs": [
    {
     "name": "stdout",
     "output_type": "stream",
     "text": [
      "[2, 4, 6, 8, 10, 12, 14, 16, 18, 20]\n"
     ]
    }
   ],
   "source": [
    "evens = [x for x in range(1, 21) if x % 2 == 0]\n",
    "print(evens)\n"
   ]
  }
 ],
 "metadata": {
  "kernelspec": {
   "display_name": "Python 3 (ipykernel)",
   "language": "python",
   "name": "python3"
  },
  "language_info": {
   "codemirror_mode": {
    "name": "ipython",
    "version": 3
   },
   "file_extension": ".py",
   "mimetype": "text/x-python",
   "name": "python",
   "nbconvert_exporter": "python",
   "pygments_lexer": "ipython3",
   "version": "3.13.3"
  }
 },
 "nbformat": 4,
 "nbformat_minor": 5
}
