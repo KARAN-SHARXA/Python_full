{
 "cells": [
  {
   "cell_type": "markdown",
   "id": "bd0ebbdf-cbb1-4e49-8c5d-da0277c7e2b1",
   "metadata": {},
   "source": [
    "# Dictionaries"
   ]
  },
  {
   "cell_type": "markdown",
   "id": "f912ab35-e629-495c-bc10-3fac0168f57e",
   "metadata": {},
   "source": [
    "<h5>A dictionary is an unordered, mutable collection of key-value pairs.</h5>"
   ]
  },
  {
   "cell_type": "code",
   "execution_count": 1,
   "id": "ddd819be-08ab-469b-b1e8-a1a17a5868fc",
   "metadata": {},
   "outputs": [],
   "source": [
    "info = {\n",
    "    \"name\": \"Karan\",\n",
    "    \"age\": 25,\n",
    "    \"is_student\": True\n",
    "}\n"
   ]
  },
  {
   "cell_type": "code",
   "execution_count": 2,
   "id": "6a043e6b-515c-4851-af1d-196dad1b7fe4",
   "metadata": {},
   "outputs": [
    {
     "name": "stdout",
     "output_type": "stream",
     "text": [
      "{'name': 'Karan', 'age': 25, 'is_student': True}\n"
     ]
    }
   ],
   "source": [
    "print(info)"
   ]
  },
  {
   "cell_type": "code",
   "execution_count": 3,
   "id": "2856f6aa-902e-4a4c-b4b2-b0d3d4618599",
   "metadata": {},
   "outputs": [
    {
     "name": "stdout",
     "output_type": "stream",
     "text": [
      "Karan\n"
     ]
    }
   ],
   "source": [
    "print(info[\"name\"])"
   ]
  },
  {
   "cell_type": "code",
   "execution_count": 4,
   "id": "3829cabe-2045-4e48-a0c6-d7135d8c8a7f",
   "metadata": {},
   "outputs": [
    {
     "name": "stdout",
     "output_type": "stream",
     "text": [
      "25\n"
     ]
    }
   ],
   "source": [
    "print(info.get(\"age\"))"
   ]
  },
  {
   "cell_type": "code",
   "execution_count": 5,
   "id": "3563f3b4-1c33-46e8-92df-ddc452fc32f1",
   "metadata": {},
   "outputs": [],
   "source": [
    "info[\"city\"] = \"Delhi\"           # Add new key\n",
    "info[\"age\"] = 26                 # Update value\n"
   ]
  },
  {
   "cell_type": "code",
   "execution_count": 6,
   "id": "9533d2ab-80ce-499c-a1f8-fd771916859a",
   "metadata": {},
   "outputs": [
    {
     "data": {
      "text/plain": [
       "{'name': 'Karan', 'age': 26, 'is_student': True, 'city': 'Delhi'}"
      ]
     },
     "execution_count": 6,
     "metadata": {},
     "output_type": "execute_result"
    }
   ],
   "source": [
    "info"
   ]
  },
  {
   "cell_type": "code",
   "execution_count": 7,
   "id": "f0d0e393-17b7-46c9-9309-642a5a03d962",
   "metadata": {},
   "outputs": [
    {
     "name": "stdout",
     "output_type": "stream",
     "text": [
      "{'name': 'Karan', 'age': 26, 'is_student': True, 'city': 'Delhi'}\n"
     ]
    }
   ],
   "source": [
    "print(info)"
   ]
  },
  {
   "cell_type": "code",
   "execution_count": 8,
   "id": "875a49bd-9163-44b7-a079-e733c6eb75a5",
   "metadata": {},
   "outputs": [
    {
     "data": {
      "text/plain": [
       "'Karan'"
      ]
     },
     "execution_count": 8,
     "metadata": {},
     "output_type": "execute_result"
    }
   ],
   "source": [
    "info.pop(\"name\")"
   ]
  },
  {
   "cell_type": "code",
   "execution_count": 9,
   "id": "8cdfb8d8-1f21-4df5-af93-b051ae03ff64",
   "metadata": {},
   "outputs": [
    {
     "name": "stdout",
     "output_type": "stream",
     "text": [
      "{'age': 26, 'is_student': True, 'city': 'Delhi'}\n"
     ]
    }
   ],
   "source": [
    "print(info)"
   ]
  },
  {
   "cell_type": "code",
   "execution_count": 10,
   "id": "8b931e57-edce-4df3-b21b-5d21d434be69",
   "metadata": {},
   "outputs": [
    {
     "name": "stdout",
     "output_type": "stream",
     "text": [
      "dict_keys(['age', 'is_student', 'city'])\n"
     ]
    }
   ],
   "source": [
    "print(info.keys())"
   ]
  },
  {
   "cell_type": "code",
   "execution_count": 11,
   "id": "c6e3308a-8f4d-411f-8271-7e4ffb7a21e1",
   "metadata": {},
   "outputs": [
    {
     "name": "stdout",
     "output_type": "stream",
     "text": [
      "dict_values([26, True, 'Delhi'])\n"
     ]
    }
   ],
   "source": [
    "print(info.values())"
   ]
  },
  {
   "cell_type": "code",
   "execution_count": 12,
   "id": "f8ada31d-86f7-4f1b-9d0b-158bb7eeb1e4",
   "metadata": {},
   "outputs": [
    {
     "name": "stdout",
     "output_type": "stream",
     "text": [
      "dict_items([('age', 26), ('is_student', True), ('city', 'Delhi')])\n"
     ]
    }
   ],
   "source": [
    "print(info.items())"
   ]
  },
  {
   "cell_type": "code",
   "execution_count": 14,
   "id": "2bfae614-81c8-45ed-8044-8acd8e76d6c2",
   "metadata": {},
   "outputs": [
    {
     "name": "stdout",
     "output_type": "stream",
     "text": [
      "None\n"
     ]
    }
   ],
   "source": [
    "print(info.clear())"
   ]
  }
 ],
 "metadata": {
  "kernelspec": {
   "display_name": "Python 3 (ipykernel)",
   "language": "python",
   "name": "python3"
  },
  "language_info": {
   "codemirror_mode": {
    "name": "ipython",
    "version": 3
   },
   "file_extension": ".py",
   "mimetype": "text/x-python",
   "name": "python",
   "nbconvert_exporter": "python",
   "pygments_lexer": "ipython3",
   "version": "3.13.3"
  }
 },
 "nbformat": 4,
 "nbformat_minor": 5
}
